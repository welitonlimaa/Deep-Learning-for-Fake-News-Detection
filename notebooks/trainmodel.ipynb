{
 "cells": [
  {
   "cell_type": "markdown",
   "metadata": {},
   "source": [
    "# Treino do Modelo Transformer"
   ]
  },
  {
   "cell_type": "markdown",
   "metadata": {},
   "source": [
    "Para a criação do modelo de detecção de fake news, será utilizada a arquitetura BERT (Bidirectional Encoder Representations from Transformers).\n",
    "- O BERT é um modelo pré-treinado (Foundation Model) baseado em Transformers, que utiliza uma abordagem de self-attention bidirecional para entender o contexto de uma palavra dentro de uma frase."
   ]
  },
  {
   "cell_type": "code",
   "execution_count": null,
   "metadata": {
    "vscode": {
     "languageId": "plaintext"
    }
   },
   "outputs": [],
   "source": []
  }
 ],
 "metadata": {
  "language_info": {
   "name": "python"
  }
 },
 "nbformat": 4,
 "nbformat_minor": 2
}

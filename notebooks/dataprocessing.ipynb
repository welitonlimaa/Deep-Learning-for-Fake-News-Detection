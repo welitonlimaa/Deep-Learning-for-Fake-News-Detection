{
 "cells": [
  {
   "cell_type": "markdown",
   "metadata": {},
   "source": [
    "## Pré-processamento\n",
    "- Dataset usado: https://www.kaggle.com/datasets/saurabhshahane/fake-news-classification\n",
    "- 0 é fake e 1 é real"
   ]
  },
  {
   "cell_type": "code",
   "execution_count": null,
   "metadata": {},
   "outputs": [],
   "source": [
    "import matplotlib.pyplot as plt\n",
    "import pandas as pd\n",
    "import sklearn as sk\n",
    "from sklearn.utils import resample"
   ]
  },
  {
   "cell_type": "code",
   "execution_count": null,
   "metadata": {},
   "outputs": [
    {
     "data": {
      "text/html": [
       "<div>\n",
       "<style scoped>\n",
       "    .dataframe tbody tr th:only-of-type {\n",
       "        vertical-align: middle;\n",
       "    }\n",
       "\n",
       "    .dataframe tbody tr th {\n",
       "        vertical-align: top;\n",
       "    }\n",
       "\n",
       "    .dataframe thead th {\n",
       "        text-align: right;\n",
       "    }\n",
       "</style>\n",
       "<table border=\"1\" class=\"dataframe\">\n",
       "  <thead>\n",
       "    <tr style=\"text-align: right;\">\n",
       "      <th></th>\n",
       "      <th>Unnamed: 0</th>\n",
       "      <th>title</th>\n",
       "      <th>text</th>\n",
       "      <th>label</th>\n",
       "    </tr>\n",
       "  </thead>\n",
       "  <tbody>\n",
       "    <tr>\n",
       "      <th>0</th>\n",
       "      <td>0</td>\n",
       "      <td>LAW ENFORCEMENT ON HIGH ALERT Following Threat...</td>\n",
       "      <td>No comment is expected from Barack Obama Membe...</td>\n",
       "      <td>1</td>\n",
       "    </tr>\n",
       "    <tr>\n",
       "      <th>1</th>\n",
       "      <td>1</td>\n",
       "      <td>NaN</td>\n",
       "      <td>Did they post their votes for Hillary already?</td>\n",
       "      <td>1</td>\n",
       "    </tr>\n",
       "    <tr>\n",
       "      <th>2</th>\n",
       "      <td>2</td>\n",
       "      <td>UNBELIEVABLE! OBAMA’S ATTORNEY GENERAL SAYS MO...</td>\n",
       "      <td>Now, most of the demonstrators gathered last ...</td>\n",
       "      <td>1</td>\n",
       "    </tr>\n",
       "    <tr>\n",
       "      <th>3</th>\n",
       "      <td>3</td>\n",
       "      <td>Bobby Jindal, raised Hindu, uses story of Chri...</td>\n",
       "      <td>A dozen politically active pastors came here f...</td>\n",
       "      <td>0</td>\n",
       "    </tr>\n",
       "    <tr>\n",
       "      <th>4</th>\n",
       "      <td>4</td>\n",
       "      <td>SATAN 2: Russia unvelis an image of its terrif...</td>\n",
       "      <td>The RS-28 Sarmat missile, dubbed Satan 2, will...</td>\n",
       "      <td>1</td>\n",
       "    </tr>\n",
       "  </tbody>\n",
       "</table>\n",
       "</div>"
      ],
      "text/plain": [
       "   Unnamed: 0                                              title  \\\n",
       "0           0  LAW ENFORCEMENT ON HIGH ALERT Following Threat...   \n",
       "1           1                                                NaN   \n",
       "2           2  UNBELIEVABLE! OBAMA’S ATTORNEY GENERAL SAYS MO...   \n",
       "3           3  Bobby Jindal, raised Hindu, uses story of Chri...   \n",
       "4           4  SATAN 2: Russia unvelis an image of its terrif...   \n",
       "\n",
       "                                                text  label  \n",
       "0  No comment is expected from Barack Obama Membe...      1  \n",
       "1     Did they post their votes for Hillary already?      1  \n",
       "2   Now, most of the demonstrators gathered last ...      1  \n",
       "3  A dozen politically active pastors came here f...      0  \n",
       "4  The RS-28 Sarmat missile, dubbed Satan 2, will...      1  "
      ]
     },
     "metadata": {},
     "output_type": "display_data"
    }
   ],
   "source": [
    "# Lê o Dataset\n",
    "df = pd.read_csv('../data/WELFake_Dataset.csv')\n",
    "df.head()"
   ]
  },
  {
   "cell_type": "code",
   "execution_count": null,
   "metadata": {},
   "outputs": [
    {
     "data": {
      "text/html": [
       "<div>\n",
       "<style scoped>\n",
       "    .dataframe tbody tr th:only-of-type {\n",
       "        vertical-align: middle;\n",
       "    }\n",
       "\n",
       "    .dataframe tbody tr th {\n",
       "        vertical-align: top;\n",
       "    }\n",
       "\n",
       "    .dataframe thead th {\n",
       "        text-align: right;\n",
       "    }\n",
       "</style>\n",
       "<table border=\"1\" class=\"dataframe\">\n",
       "  <thead>\n",
       "    <tr style=\"text-align: right;\">\n",
       "      <th></th>\n",
       "      <th>title</th>\n",
       "      <th>text</th>\n",
       "      <th>label</th>\n",
       "    </tr>\n",
       "  </thead>\n",
       "  <tbody>\n",
       "    <tr>\n",
       "      <th>0</th>\n",
       "      <td>LAW ENFORCEMENT ON HIGH ALERT Following Threat...</td>\n",
       "      <td>No comment is expected from Barack Obama Membe...</td>\n",
       "      <td>1</td>\n",
       "    </tr>\n",
       "    <tr>\n",
       "      <th>1</th>\n",
       "      <td>NaN</td>\n",
       "      <td>Did they post their votes for Hillary already?</td>\n",
       "      <td>1</td>\n",
       "    </tr>\n",
       "    <tr>\n",
       "      <th>2</th>\n",
       "      <td>UNBELIEVABLE! OBAMA’S ATTORNEY GENERAL SAYS MO...</td>\n",
       "      <td>Now, most of the demonstrators gathered last ...</td>\n",
       "      <td>1</td>\n",
       "    </tr>\n",
       "    <tr>\n",
       "      <th>3</th>\n",
       "      <td>Bobby Jindal, raised Hindu, uses story of Chri...</td>\n",
       "      <td>A dozen politically active pastors came here f...</td>\n",
       "      <td>0</td>\n",
       "    </tr>\n",
       "    <tr>\n",
       "      <th>4</th>\n",
       "      <td>SATAN 2: Russia unvelis an image of its terrif...</td>\n",
       "      <td>The RS-28 Sarmat missile, dubbed Satan 2, will...</td>\n",
       "      <td>1</td>\n",
       "    </tr>\n",
       "  </tbody>\n",
       "</table>\n",
       "</div>"
      ],
      "text/plain": [
       "                                               title  \\\n",
       "0  LAW ENFORCEMENT ON HIGH ALERT Following Threat...   \n",
       "1                                                NaN   \n",
       "2  UNBELIEVABLE! OBAMA’S ATTORNEY GENERAL SAYS MO...   \n",
       "3  Bobby Jindal, raised Hindu, uses story of Chri...   \n",
       "4  SATAN 2: Russia unvelis an image of its terrif...   \n",
       "\n",
       "                                                text  label  \n",
       "0  No comment is expected from Barack Obama Membe...      1  \n",
       "1     Did they post their votes for Hillary already?      1  \n",
       "2   Now, most of the demonstrators gathered last ...      1  \n",
       "3  A dozen politically active pastors came here f...      0  \n",
       "4  The RS-28 Sarmat missile, dubbed Satan 2, will...      1  "
      ]
     },
     "metadata": {},
     "output_type": "display_data"
    }
   ],
   "source": [
    "# Remove a primeira coluna do dataframe\n",
    "df = df.drop(df.columns[0], axis=1)\n",
    "df.head()"
   ]
  },
  {
   "cell_type": "code",
   "execution_count": null,
   "metadata": {},
   "outputs": [
    {
     "data": {
      "text/plain": [
       "72134"
      ]
     },
     "metadata": {},
     "output_type": "display_data"
    }
   ],
   "source": [
    "# total de linhas do dataframe\n",
    "df.shape[0]"
   ]
  },
  {
   "cell_type": "markdown",
   "metadata": {},
   "source": [
    "### Remoção de linhas nulas"
   ]
  },
  {
   "cell_type": "code",
   "execution_count": null,
   "metadata": {},
   "outputs": [
    {
     "data": {
      "text/plain": [
       "title    558\n",
       "text      39\n",
       "label      0\n",
       "dtype: int64"
      ]
     },
     "metadata": {},
     "output_type": "display_data"
    }
   ],
   "source": [
    "# O método \"sum()\" soma os valores booleanos em cada coluna, contando quantos valores nulos existem\n",
    "\n",
    "df.isnull().sum()"
   ]
  },
  {
   "cell_type": "code",
   "execution_count": null,
   "metadata": {},
   "outputs": [
    {
     "data": {
      "text/plain": [
       "title    0\n",
       "text     0\n",
       "label    0\n",
       "dtype: int64"
      ]
     },
     "metadata": {},
     "output_type": "display_data"
    }
   ],
   "source": [
    "# Remove linhas nulas\n",
    "df = df.dropna()\n",
    "\n",
    "df.isnull().sum()"
   ]
  },
  {
   "cell_type": "code",
   "execution_count": null,
   "metadata": {},
   "outputs": [
    {
     "data": {
      "text/plain": [
       "71537"
      ]
     },
     "metadata": {},
     "output_type": "display_data"
    }
   ],
   "source": [
    "# total de linhas do dataframe\n",
    "df.shape[0]"
   ]
  },
  {
   "cell_type": "markdown",
   "metadata": {},
   "source": [
    "### Checa e remove linhas repetidas"
   ]
  },
  {
   "cell_type": "code",
   "execution_count": null,
   "metadata": {},
   "outputs": [
    {
     "data": {
      "text/plain": [
       "np.int64(8416)"
      ]
     },
     "metadata": {},
     "output_type": "display_data"
    }
   ],
   "source": [
    "# Conta as linhas duplicadas\n",
    "df.duplicated().sum()"
   ]
  },
  {
   "cell_type": "code",
   "execution_count": null,
   "metadata": {},
   "outputs": [
    {
     "data": {
      "text/plain": [
       "63121"
      ]
     },
     "metadata": {},
     "output_type": "display_data"
    }
   ],
   "source": [
    "# Remove as linhas duplicadas\n",
    "df = df.drop_duplicates()\n",
    "\n",
    "# Total de linhas atualizado\n",
    "df.shape[0]"
   ]
  },
  {
   "cell_type": "markdown",
   "metadata": {},
   "source": [
    "### Checa o equilibrio do dataset"
   ]
  },
  {
   "cell_type": "code",
   "execution_count": null,
   "metadata": {},
   "outputs": [
    {
     "data": {
      "image/png": "[encoded data removed]",
      "text/plain": [
       "<Figure size 640x480 with 1 Axes>"
      ]
     },
     "metadata": {},
     "output_type": "display_data"
    }
   ],
   "source": [
    "# Cria e Exibe o gráfico\n",
    "\n",
    "label_count = df.label.value_counts()\n",
    "\n",
    "plt.bar(label_count.index, label_count)\n",
    "\n",
    "plt.title(\"Distribuição de rótulos\")\n",
    "\n",
    "plt.xlabel(\"Rótulo\")\n",
    "\n",
    "plt.ylabel(\"Número de ocorrências\")\n",
    "\n",
    "plt.xticks([0, 1], [\"Fake\", \"Real\"])\n",
    "\n",
    "plt.show()"
   ]
  },
  {
   "cell_type": "markdown",
   "metadata": {},
   "source": [
    "### Faz o balanceamento dos dados com Undersampling\n",
    "- O undersampling reduz o número de amostras da classe majoritária (neste caso, Fake News) para que fique proporcional à classe minoritária (Real News)."
   ]
  },
  {
   "cell_type": "code",
   "execution_count": null,
   "metadata": {},
   "outputs": [
    {
     "name": "stdout",
     "output_type": "stream",
     "text": [
      "label\n",
      "1    28330\n",
      "0    28330\n",
      "Name: count, dtype: int64\n"
     ]
    }
   ],
   "source": [
    "# Separar as classes majoritárias (Fake News) e minoritárias (Real News)\n",
    "df_fake = df[df[\"label\"] == 0]\n",
    "df_real = df[df[\"label\"] == 1]\n",
    "\n",
    "# Fazer o undersampling da classe majoritária (Fake News)\n",
    "df_fake_downsampled = resample(\n",
    "    df_fake,\n",
    "    replace=False, \n",
    "    n_samples=len(df_real), \n",
    "    random_state=42,\n",
    ") \n",
    "\n",
    "df_balanced = pd.concat([df_fake_downsampled, df_real])\n",
    "\n",
    "df_balanced = df_balanced.sample(frac=1, random_state=42).reset_index(drop=True)\n",
    "\n",
    "# Exibir a contagem de cada classe para verificar o balanceamento\n",
    "print(df_balanced[\"label\"].value_counts())"
   ]
  },
  {
   "cell_type": "code",
   "execution_count": null,
   "metadata": {},
   "outputs": [
    {
     "data": {
      "image/png": "[encoded data removed]",
      "text/plain": [
       "<Figure size 640x480 with 1 Axes>"
      ]
     },
     "metadata": {},
     "output_type": "display_data"
    }
   ],
   "source": [
    "# Cria e Exibe o gráfico\n",
    "\n",
    "label_count = df_balanced.label.value_counts()\n",
    "\n",
    "plt.bar(label_count.index, label_count)\n",
    "\n",
    "plt.title(\"Distribuição de rótulos\")\n",
    "\n",
    "plt.xlabel(\"Rótulo\")\n",
    "\n",
    "plt.ylabel(\"Número de ocorrências\")\n",
    "\n",
    "plt.xticks([0, 1], [\"Fake\", \"Real\"])\n",
    "\n",
    "plt.show()"
   ]
  },
  {
   "cell_type": "code",
   "execution_count": null,
   "metadata": {},
   "outputs": [
    {
     "data": {
      "text/plain": [
       "56660"
      ]
     },
     "metadata": {},
     "output_type": "display_data"
    }
   ],
   "source": [
    "# Total de linhas atualizado\n",
    "df_balanced.shape[0]"
   ]
  },
  {
   "cell_type": "markdown",
   "metadata": {},
   "source": [
    "### Data text Cleaning\n",
    "- Remove URLs\n",
    "- Remove menção de usuarios\n",
    "- Remove numeros\n",
    "- Remove pontuações e espaços"
   ]
  },
  {
   "cell_type": "code",
   "execution_count": null,
   "metadata": {},
   "outputs": [
    {
     "data": {
      "text/html": [
       "<div>\n",
       "<style scoped>\n",
       "    .dataframe tbody tr th:only-of-type {\n",
       "        vertical-align: middle;\n",
       "    }\n",
       "\n",
       "    .dataframe tbody tr th {\n",
       "        vertical-align: top;\n",
       "    }\n",
       "\n",
       "    .dataframe thead th {\n",
       "        text-align: right;\n",
       "    }\n",
       "</style>\n",
       "<table border=\"1\" class=\"dataframe\">\n",
       "  <thead>\n",
       "    <tr style=\"text-align: right;\">\n",
       "      <th></th>\n",
       "      <th>title</th>\n",
       "      <th>text</th>\n",
       "      <th>label</th>\n",
       "      <th>news</th>\n",
       "    </tr>\n",
       "  </thead>\n",
       "  <tbody>\n",
       "    <tr>\n",
       "      <th>0</th>\n",
       "      <td>FAKE NEWS! MAXINE WATERS and JOY REID Make Out...</td>\n",
       "      <td></td>\n",
       "      <td>1</td>\n",
       "      <td>FAKE NEWS! MAXINE WATERS and JOY REID Make Out...</td>\n",
       "    </tr>\n",
       "    <tr>\n",
       "      <th>1</th>\n",
       "      <td>BREAKING: MORE HACKED E-MAILS From DNC Release...</td>\n",
       "      <td>it s not the first time that the name of vladi...</td>\n",
       "      <td>1</td>\n",
       "      <td>BREAKING: MORE HACKED E-MAILS From DNC Release...</td>\n",
       "    </tr>\n",
       "    <tr>\n",
       "      <th>2</th>\n",
       "      <td>Mexico says top U.S., Mexican officials to mee...</td>\n",
       "      <td>mexico city  reuters    senior mexican officia...</td>\n",
       "      <td>0</td>\n",
       "      <td>Mexico says top U.S., Mexican officials to mee...</td>\n",
       "    </tr>\n",
       "    <tr>\n",
       "      <th>3</th>\n",
       "      <td>Trump Thinks Rush Limbaugh Is Real News And T...</td>\n",
       "      <td>rush limbaugh praised donald trump s insanely ...</td>\n",
       "      <td>1</td>\n",
       "      <td>Trump Thinks Rush Limbaugh Is Real News And T...</td>\n",
       "    </tr>\n",
       "    <tr>\n",
       "      <th>4</th>\n",
       "      <td>Mayweather ’Out of Retirement for McGregor’: M...</td>\n",
       "      <td>los angeles  afp   —   retired unbeaten boxing...</td>\n",
       "      <td>0</td>\n",
       "      <td>Mayweather ’Out of Retirement for McGregor’: M...</td>\n",
       "    </tr>\n",
       "  </tbody>\n",
       "</table>\n",
       "</div>"
      ],
      "text/plain": [
       "                                               title  \\\n",
       "0  FAKE NEWS! MAXINE WATERS and JOY REID Make Out...   \n",
       "1  BREAKING: MORE HACKED E-MAILS From DNC Release...   \n",
       "2  Mexico says top U.S., Mexican officials to mee...   \n",
       "3   Trump Thinks Rush Limbaugh Is Real News And T...   \n",
       "4  Mayweather ’Out of Retirement for McGregor’: M...   \n",
       "\n",
       "                                                text  label  \\\n",
       "0                                                         1   \n",
       "1  it s not the first time that the name of vladi...      1   \n",
       "2  mexico city  reuters    senior mexican officia...      0   \n",
       "3  rush limbaugh praised donald trump s insanely ...      1   \n",
       "4  los angeles  afp   —   retired unbeaten boxing...      0   \n",
       "\n",
       "                                                news  \n",
       "0  FAKE NEWS! MAXINE WATERS and JOY REID Make Out...  \n",
       "1  BREAKING: MORE HACKED E-MAILS From DNC Release...  \n",
       "2  Mexico says top U.S., Mexican officials to mee...  \n",
       "3   Trump Thinks Rush Limbaugh Is Real News And T...  \n",
       "4  Mayweather ’Out of Retirement for McGregor’: M...  "
      ]
     },
     "metadata": {},
     "output_type": "display_data"
    }
   ],
   "source": [
    "from sklearn.feature_extraction.text import TfidfVectorizer  # vetoriza usando TF-IDF\n",
    "\n",
    "# juntamos título e texto na mesma coluna\n",
    "df_balanced['news'] = pd.concat([df_balanced['title'], df_balanced['text']], axis=1).apply(lambda x: ' '.join(x), axis=1)\n",
    "\n",
    "df_balanced.head()"
   ]
  },
  {
   "cell_type": "code",
   "execution_count": null,
   "metadata": {},
   "outputs": [],
   "source": [
    "import string\n",
    "import re\n",
    "\n",
    "df_balanced[\"news\"] = df_balanced[\"news\"].apply(lambda x: re.sub(r\"http\\S+\", \"\", x))\n",
    "df_balanced[\"news\"] = df_balanced[\"news\"].apply(lambda x: re.sub(r\"@\\S+ \", \"\", x))\n",
    "df_balanced[\"news\"] = df_balanced[\"news\"].apply(\n",
    "    lambda x: \"\".join(i for i in x if not i.isdigit())\n",
    ")\n",
    "table = str.maketrans(string.punctuation, \" \" * len(string.punctuation))\n",
    "df_balanced[\"news\"] = df_balanced[\"news\"].str.translate(table)\n",
    "df_balanced[\"news\"] = df_balanced[\"news\"].str.replace(\" +\", \" \")\n",
    "df_balanced[\"news\"] = df_balanced[\"news\"].str.lower()\n",
    "df_balanced[\"news\"] = df_balanced[\"news\"].str.strip()"
   ]
  },
  {
   "cell_type": "code",
   "execution_count": null,
   "metadata": {},
   "outputs": [
    {
     "data": {
      "text/html": [
       "<div>\n",
       "<style scoped>\n",
       "    .dataframe tbody tr th:only-of-type {\n",
       "        vertical-align: middle;\n",
       "    }\n",
       "\n",
       "    .dataframe tbody tr th {\n",
       "        vertical-align: top;\n",
       "    }\n",
       "\n",
       "    .dataframe thead th {\n",
       "        text-align: right;\n",
       "    }\n",
       "</style>\n",
       "<table border=\"1\" class=\"dataframe\">\n",
       "  <thead>\n",
       "    <tr style=\"text-align: right;\">\n",
       "      <th></th>\n",
       "      <th>label</th>\n",
       "      <th>news</th>\n",
       "    </tr>\n",
       "  </thead>\n",
       "  <tbody>\n",
       "    <tr>\n",
       "      <th>0</th>\n",
       "      <td>1</td>\n",
       "      <td>fake news  maxine waters and joy reid make out...</td>\n",
       "    </tr>\n",
       "    <tr>\n",
       "      <th>1</th>\n",
       "      <td>1</td>\n",
       "      <td>breaking  more hacked e mails from dnc release...</td>\n",
       "    </tr>\n",
       "    <tr>\n",
       "      <th>2</th>\n",
       "      <td>0</td>\n",
       "      <td>mexico says top u s   mexican officials to mee...</td>\n",
       "    </tr>\n",
       "    <tr>\n",
       "      <th>3</th>\n",
       "      <td>1</td>\n",
       "      <td>trump thinks rush limbaugh is real news and th...</td>\n",
       "    </tr>\n",
       "    <tr>\n",
       "      <th>4</th>\n",
       "      <td>0</td>\n",
       "      <td>mayweather ’out of retirement for mcgregor’  m...</td>\n",
       "    </tr>\n",
       "    <tr>\n",
       "      <th>...</th>\n",
       "      <td>...</td>\n",
       "      <td>...</td>\n",
       "    </tr>\n",
       "    <tr>\n",
       "      <th>56655</th>\n",
       "      <td>1</td>\n",
       "      <td>board certified psychiatrist brutally diagnose...</td>\n",
       "    </tr>\n",
       "    <tr>\n",
       "      <th>56656</th>\n",
       "      <td>1</td>\n",
       "      <td>respect  hollywood actor volunteers to fight i...</td>\n",
       "    </tr>\n",
       "    <tr>\n",
       "      <th>56657</th>\n",
       "      <td>0</td>\n",
       "      <td>u s  senators denounce trump plan to focus cou...</td>\n",
       "    </tr>\n",
       "    <tr>\n",
       "      <th>56658</th>\n",
       "      <td>0</td>\n",
       "      <td>unskewing facebook will take all kinds  column...</td>\n",
       "    </tr>\n",
       "    <tr>\n",
       "      <th>56659</th>\n",
       "      <td>1</td>\n",
       "      <td>james comey is doing something that will have ...</td>\n",
       "    </tr>\n",
       "  </tbody>\n",
       "</table>\n",
       "<p>56660 rows × 2 columns</p>\n",
       "</div>"
      ],
      "text/plain": [
       "       label                                               news\n",
       "0          1  fake news  maxine waters and joy reid make out...\n",
       "1          1  breaking  more hacked e mails from dnc release...\n",
       "2          0  mexico says top u s   mexican officials to mee...\n",
       "3          1  trump thinks rush limbaugh is real news and th...\n",
       "4          0  mayweather ’out of retirement for mcgregor’  m...\n",
       "...      ...                                                ...\n",
       "56655      1  board certified psychiatrist brutally diagnose...\n",
       "56656      1  respect  hollywood actor volunteers to fight i...\n",
       "56657      0  u s  senators denounce trump plan to focus cou...\n",
       "56658      0  unskewing facebook will take all kinds  column...\n",
       "56659      1  james comey is doing something that will have ...\n",
       "\n",
       "[56660 rows x 2 columns]"
      ]
     },
     "metadata": {},
     "output_type": "display_data"
    }
   ],
   "source": [
    "df_short = df_balanced.drop(['title', 'text'], axis=1)\n",
    "df_short"
   ]
  },
  {
   "cell_type": "markdown",
   "metadata": {},
   "source": [
    "### Remoção de Stopwords\n",
    "\n",
    "- As stop words são excluídas porque são muito comuns e não acrescentam muito valor à classificação"
   ]
  },
  {
   "cell_type": "code",
   "execution_count": null,
   "metadata": {},
   "outputs": [
    {
     "name": "stderr",
     "output_type": "stream",
     "text": [
      "[nltk_data] Downloading package stopwords to\n",
      "[nltk_data]     /home/weliton/nltk_data...\n",
      "[nltk_data]   Unzipping corpora/stopwords.zip.\n"
     ]
    },
    {
     "data": {
      "text/plain": [
       "0         24\n",
       "1        516\n",
       "2        165\n",
       "3        538\n",
       "4        254\n",
       "        ... \n",
       "56655    496\n",
       "56656    942\n",
       "56657    511\n",
       "56658    759\n",
       "56659    364\n",
       "Name: news, Length: 56660, dtype: int64"
      ]
     },
     "metadata": {},
     "output_type": "display_data"
    }
   ],
   "source": [
    "import nltk\n",
    "nltk.download(\"stopwords\")\n",
    "from nltk.corpus import stopwords\n",
    "\n",
    "# total de palavras antes das stopwords\n",
    "df_short[\"news\"].str.split().apply(len)"
   ]
  },
  {
   "cell_type": "code",
   "execution_count": null,
   "metadata": {},
   "outputs": [
    {
     "data": {
      "text/plain": [
       "0        fake news maxine waters joy reid make outrageo...\n",
       "1        breaking hacked e mails dnc released vengeful ...\n",
       "2        mexico says top u mexican officials meet washi...\n",
       "3        trump thinks rush limbaugh real news internet ...\n",
       "4        mayweather ’out retirement mcgregor’ mma breit...\n",
       "                               ...                        \n",
       "56655    board certified psychiatrist brutally diagnose...\n",
       "56656    respect hollywood actor volunteers fight isis ...\n",
       "56657    u senators denounce trump plan focus counter e...\n",
       "56658    unskewing facebook take kinds column shortages...\n",
       "56659    james comey something trump sh tting pants tru...\n",
       "Name: news, Length: 56660, dtype: object"
      ]
     },
     "metadata": {},
     "output_type": "display_data"
    }
   ],
   "source": [
    "# Remove stopwords\n",
    "\n",
    "stop_words = set(stopwords.words(\"english\"))\n",
    "df_short[\"news\"] = df_short[\"news\"].apply(\n",
    "    lambda x: \" \".join([word for word in x.split() if word not in stop_words])\n",
    ")\n",
    "\n",
    "df_short[\"news\"]"
   ]
  },
  {
   "cell_type": "code",
   "execution_count": null,
   "metadata": {},
   "outputs": [
    {
     "data": {
      "text/plain": [
       "0         20\n",
       "1        291\n",
       "2        119\n",
       "3        280\n",
       "4        151\n",
       "        ... \n",
       "56655    268\n",
       "56656    455\n",
       "56657    339\n",
       "56658    452\n",
       "56659    185\n",
       "Name: news, Length: 56660, dtype: int64"
      ]
     },
     "metadata": {},
     "output_type": "display_data"
    }
   ],
   "source": [
    "# total de palavras depois das stopwords\n",
    "df_short[\"news\"].str.split().apply(len)"
   ]
  },
  {
   "cell_type": "markdown",
   "metadata": {},
   "source": [
    "### Lemmatization\n",
    "- Reduz as palavras em cada notícia para sua forma canônica"
   ]
  },
  {
   "cell_type": "code",
   "execution_count": null,
   "metadata": {},
   "outputs": [
    {
     "name": "stderr",
     "output_type": "stream",
     "text": [
      "[nltk_data] Downloading package wordnet to /home/weliton/nltk_data...\n"
     ]
    }
   ],
   "source": [
    "nltk.download(\"wordnet\")\n",
    "from nltk.stem import WordNetLemmatizer\n",
    "\n",
    "lemmatizer = WordNetLemmatizer()\n",
    "df_short[\"news\"] = df_short[\"news\"].apply(\n",
    "    lambda x: \" \".join([lemmatizer.lemmatize(word) for word in x.split()])\n",
    ")"
   ]
  },
  {
   "cell_type": "markdown",
   "metadata": {},
   "source": [
    "## Separa o conjunto de dados em conjuntos de treinamento e teste"
   ]
  },
  {
   "cell_type": "code",
   "execution_count": null,
   "metadata": {},
   "outputs": [],
   "source": [
    "from sklearn.model_selection import train_test_split\n",
    "\n",
    "X_train, X_test, y_train, y_test = train_test_split(\n",
    "    df_short[\"news\"], df_short[\"label\"], test_size=0.2\n",
    ")"
   ]
  },
  {
   "cell_type": "code",
   "execution_count": null,
   "metadata": {},
   "outputs": [],
   "source": [
    "df_short_train = pd.concat([X_train, y_train], axis=1)\n",
    "df_short_test = pd.concat([X_test, y_test], axis=1)"
   ]
  },
  {
   "cell_type": "code",
   "execution_count": null,
   "metadata": {},
   "outputs": [
    {
     "data": {
      "text/plain": [
       "45328"
      ]
     },
     "metadata": {},
     "output_type": "display_data"
    }
   ],
   "source": [
    "# total de linhas do dataframe de treino\n",
    "df_short_train.shape[0]"
   ]
  },
  {
   "cell_type": "code",
   "execution_count": null,
   "metadata": {},
   "outputs": [
    {
     "data": {
      "text/plain": [
       "11332"
      ]
     },
     "metadata": {},
     "output_type": "display_data"
    }
   ],
   "source": [
    "# total de linhas do dataframe de teste\n",
    "df_short_test.shape[0]"
   ]
  },
  {
   "cell_type": "code",
   "execution_count": null,
   "metadata": {},
   "outputs": [],
   "source": [
    "df_short_train.to_csv(\"../data/short_text_preprocessed_train.csv\", index=False)\n",
    "df_short_test.to_csv(\"../data/short_text_preprocessed_test.csv\", index=False)"
   ]
  }
 ],
 "metadata": {
  "language_info": {
   "name": "python"
  }
 },
 "nbformat": 4,
 "nbformat_minor": 2
}
